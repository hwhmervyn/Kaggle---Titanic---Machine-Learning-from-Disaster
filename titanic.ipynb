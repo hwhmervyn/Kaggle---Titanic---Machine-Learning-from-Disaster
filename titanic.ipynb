{
 "cells": [
  {
   "cell_type": "markdown",
   "metadata": {},
   "source": [
    "# Titanic - Machine Learning from Disaster"
   ]
  },
  {
   "cell_type": "markdown",
   "metadata": {},
   "source": [
    "## Data preprocessing"
   ]
  },
  {
   "cell_type": "code",
   "execution_count": 398,
   "metadata": {},
   "outputs": [],
   "source": [
    "import numpy as np\n",
    "import matplotlib.pyplot as plt\n",
    "import pandas as pd"
   ]
  },
  {
   "cell_type": "code",
   "execution_count": 399,
   "metadata": {},
   "outputs": [
    {
     "name": "stdout",
     "output_type": "stream",
     "text": [
      "PassengerId      0\n",
      "Survived         0\n",
      "Pclass           0\n",
      "Name             0\n",
      "Sex              0\n",
      "Age            177\n",
      "SibSp            0\n",
      "Parch            0\n",
      "Ticket           0\n",
      "Fare             0\n",
      "Cabin          687\n",
      "Embarked         2\n",
      "dtype: int64\n",
      "PassengerId      0\n",
      "Pclass           0\n",
      "Name             0\n",
      "Sex              0\n",
      "Age             86\n",
      "SibSp            0\n",
      "Parch            0\n",
      "Ticket           0\n",
      "Fare             1\n",
      "Cabin          327\n",
      "Embarked         0\n",
      "dtype: int64\n"
     ]
    }
   ],
   "source": [
    "training_data = pd.read_csv('train.csv')\n",
    "test_data = pd.read_csv('test.csv')\n",
    "#check for null values\n",
    "print(training_data.isnull().sum())\n",
    "print(test_data.isnull().sum())"
   ]
  },
  {
   "cell_type": "markdown",
   "metadata": {},
   "source": [
    "Missing values in Age, Cabin and Embarked column in training data\n",
    "Missing values in Age, Fare and Cabin column in test data\n",
    "We can omit Cabin in our analysis as it is unlikely Cabin number has any causal effect on Survivability. Furthremore, Cabin number is likely based on Pclass which will cause perfect multicollinearity if we add it into the logistic regression model."
   ]
  },
  {
   "cell_type": "code",
   "execution_count": 400,
   "metadata": {},
   "outputs": [],
   "source": [
    "training_data = training_data.drop(columns=[\"PassengerId\", \"Name\", \"Ticket\", \"Cabin\"])\n",
    "test_data = test_data.drop(columns=[\"Name\", \"Ticket\", \"Cabin\"])"
   ]
  },
  {
   "cell_type": "markdown",
   "metadata": {},
   "source": [
    "### Histogram of Age Grouped by Pclass"
   ]
  },
  {
   "cell_type": "code",
   "execution_count": 401,
   "metadata": {},
   "outputs": [
    {
     "data": {
      "text/plain": [
       "38.233440860215055"
      ]
     },
     "execution_count": 401,
     "metadata": {},
     "output_type": "execute_result"
    },
    {
     "data": {
      "image/png": "[encoded data removed]",
      "text/plain": [
       "<Figure size 432x288 with 1 Axes>"
      ]
     },
     "metadata": {
      "needs_background": "light"
     },
     "output_type": "display_data"
    }
   ],
   "source": [
    "training_data[training_data[\"Pclass\"] == 1][\"Age\"].hist()\n",
    "training_data[training_data[\"Pclass\"] == 1][\"Age\"].mean()"
   ]
  },
  {
   "cell_type": "code",
   "execution_count": 402,
   "metadata": {},
   "outputs": [
    {
     "data": {
      "text/plain": [
       "29.87763005780347"
      ]
     },
     "execution_count": 402,
     "metadata": {},
     "output_type": "execute_result"
    },
    {
     "data": {
      "image/png": "[encoded data removed]",
      "text/plain": [
       "<Figure size 432x288 with 1 Axes>"
      ]
     },
     "metadata": {
      "needs_background": "light"
     },
     "output_type": "display_data"
    }
   ],
   "source": [
    "training_data[training_data[\"Pclass\"] == 2][\"Age\"].hist(color = \"red\")\n",
    "training_data[training_data[\"Pclass\"] == 2][\"Age\"].mean()"
   ]
  },
  {
   "cell_type": "code",
   "execution_count": 403,
   "metadata": {},
   "outputs": [
    {
     "data": {
      "text/plain": [
       "25.14061971830986"
      ]
     },
     "execution_count": 403,
     "metadata": {},
     "output_type": "execute_result"
    },
    {
     "data": {
      "image/png": "[encoded data removed]",
      "text/plain": [
       "<Figure size 432x288 with 1 Axes>"
      ]
     },
     "metadata": {
      "needs_background": "light"
     },
     "output_type": "display_data"
    }
   ],
   "source": [
    "training_data[training_data[\"Pclass\"] == 3][\"Age\"].hist(color = \"green\")\n",
    "training_data[training_data[\"Pclass\"] == 3][\"Age\"].mean()"
   ]
  },
  {
   "cell_type": "markdown",
   "metadata": {},
   "source": [
    "Pclass is likely positively correlated with Age as an older person is more likely able to afford a higher class ticket. Therefore, we will fill in the missing Age values with means based on Pclass"
   ]
  },
  {
   "cell_type": "code",
   "execution_count": 404,
   "metadata": {},
   "outputs": [],
   "source": [
    "def fill_missing_age(dataset):\n",
    "    age = dataset[3]\n",
    "    pclass = dataset[1]\n",
    "    if pd.isnull(age):\n",
    "            if pclass == 1:\n",
    "                return 38\n",
    "            elif pclass == 2:\n",
    "                return 30\n",
    "            else:\n",
    "                return 25\n",
    "    else:\n",
    "        return age"
   ]
  },
  {
   "cell_type": "code",
   "execution_count": 405,
   "metadata": {},
   "outputs": [],
   "source": [
    "training_data[\"Age\"] = training_data.apply(fill_missing_age, axis=1)\n",
    "test_data[\"Age\"] = test_data.apply(fill_missing_age, axis=1)"
   ]
  },
  {
   "cell_type": "markdown",
   "metadata": {},
   "source": [
    "### Dealing with Embarked missing values"
   ]
  },
  {
   "cell_type": "code",
   "execution_count": 406,
   "metadata": {},
   "outputs": [
    {
     "data": {
      "text/plain": [
       "<AxesSubplot:title={'center':'Bar chart of average fare grouped by Embarked'}, xlabel='Embarked', ylabel='Fare'>"
      ]
     },
     "execution_count": 406,
     "metadata": {},
     "output_type": "execute_result"
    },
    {
     "data": {
      "image/png": "[encoded data removed]",
      "text/plain": [
       "<Figure size 432x288 with 1 Axes>"
      ]
     },
     "metadata": {
      "needs_background": "light"
     },
     "output_type": "display_data"
    }
   ],
   "source": [
    "training_data.groupby([\"Embarked\"])[\"Fare\"].mean().plot(kind = \"bar\", ylabel = \"Fare\", rot = 0, title = \"Bar chart of average fare grouped by Embarked\")"
   ]
  },
  {
   "cell_type": "code",
   "execution_count": 407,
   "metadata": {},
   "outputs": [
    {
     "data": {
      "text/plain": [
       "count    168.000000\n",
       "mean      59.954144\n",
       "std       83.912994\n",
       "min        4.012500\n",
       "25%       13.697950\n",
       "50%       29.700000\n",
       "75%       78.500025\n",
       "max      512.329200\n",
       "Name: Fare, dtype: float64"
      ]
     },
     "execution_count": 407,
     "metadata": {},
     "output_type": "execute_result"
    },
    {
     "data": {
      "image/png": "[encoded data removed]",
      "text/plain": [
       "<Figure size 432x288 with 1 Axes>"
      ]
     },
     "metadata": {
      "needs_background": "light"
     },
     "output_type": "display_data"
    }
   ],
   "source": [
    "training_data[training_data[\"Embarked\"] == \"C\"][\"Fare\"].hist()\n",
    "training_data[training_data[\"Embarked\"] == \"C\"][\"Fare\"].describe()"
   ]
  },
  {
   "cell_type": "code",
   "execution_count": 408,
   "metadata": {},
   "outputs": [
    {
     "data": {
      "text/plain": [
       "count    77.000000\n",
       "mean     13.276030\n",
       "std      14.188047\n",
       "min       6.750000\n",
       "25%       7.750000\n",
       "50%       7.750000\n",
       "75%      15.500000\n",
       "max      90.000000\n",
       "Name: Fare, dtype: float64"
      ]
     },
     "execution_count": 408,
     "metadata": {},
     "output_type": "execute_result"
    },
    {
     "data": {
      "image/png": "[encoded data removed]",
      "text/plain": [
       "<Figure size 432x288 with 1 Axes>"
      ]
     },
     "metadata": {
      "needs_background": "light"
     },
     "output_type": "display_data"
    }
   ],
   "source": [
    "training_data[training_data[\"Embarked\"] == \"Q\"][\"Fare\"].hist(color = 'red')\n",
    "training_data[training_data[\"Embarked\"] == \"Q\"][\"Fare\"].describe()"
   ]
  },
  {
   "cell_type": "code",
   "execution_count": 409,
   "metadata": {},
   "outputs": [
    {
     "data": {
      "text/plain": [
       "count    644.000000\n",
       "mean      27.079812\n",
       "std       35.887993\n",
       "min        0.000000\n",
       "25%        8.050000\n",
       "50%       13.000000\n",
       "75%       27.900000\n",
       "max      263.000000\n",
       "Name: Fare, dtype: float64"
      ]
     },
     "execution_count": 409,
     "metadata": {},
     "output_type": "execute_result"
    },
    {
     "data": {
      "image/png": "[encoded data removed]",
      "text/plain": [
       "<Figure size 432x288 with 1 Axes>"
      ]
     },
     "metadata": {
      "needs_background": "light"
     },
     "output_type": "display_data"
    }
   ],
   "source": [
    "training_data[training_data[\"Embarked\"] == \"S\"][\"Fare\"].hist(color = 'green')\n",
    "training_data[training_data[\"Embarked\"] == \"S\"][\"Fare\"].describe()"
   ]
  },
  {
   "cell_type": "markdown",
   "metadata": {},
   "source": [
    "Embarked is most likely correlated with Fare as the location of where a passenger embarks likely determines the fare of ticket, considering all other variables remain constant. Therefore we will fill in missing embarked values based on ticket fare"
   ]
  },
  {
   "cell_type": "code",
   "execution_count": 410,
   "metadata": {},
   "outputs": [],
   "source": [
    "def fill_missing_embarked(dataset):\n",
    "    embarked = dataset[-1]\n",
    "    fare = dataset[-2]\n",
    "    if pd.isnull(embarked):\n",
    "            if fare < 15.5:\n",
    "                return \"Q\"\n",
    "            elif 15.5 <= fare < 28:\n",
    "                return \"S\"\n",
    "            else:\n",
    "                return \"C\"\n",
    "    else:\n",
    "        return embarked\n",
    "\n",
    "def fill_missing_fare(dataset):\n",
    "    embarked = dataset[-1]\n",
    "    fare = dataset[-2]\n",
    "    if pd.isnull(fare):\n",
    "            if embarked == \"Q\":\n",
    "                return 13.27\n",
    "            elif embarked == \"S\":\n",
    "                return 27.07\n",
    "            else:\n",
    "                return 59.95\n",
    "    else:\n",
    "        return fare"
   ]
  },
  {
   "cell_type": "code",
   "execution_count": 411,
   "metadata": {},
   "outputs": [
    {
     "data": {
      "text/plain": [
       "PassengerId    0\n",
       "Pclass         0\n",
       "Sex            0\n",
       "Age            0\n",
       "SibSp          0\n",
       "Parch          0\n",
       "Fare           0\n",
       "Embarked       0\n",
       "dtype: int64"
      ]
     },
     "execution_count": 411,
     "metadata": {},
     "output_type": "execute_result"
    }
   ],
   "source": [
    "training_data[\"Embarked\"] = training_data.apply(fill_missing_embarked, axis=1)\n",
    "test_data[\"Fare\"] = test_data.apply(fill_missing_fare, axis=1)\n",
    "#training_data.isnull().sum()\n",
    "test_data.isnull().sum()"
   ]
  },
  {
   "cell_type": "code",
   "execution_count": 412,
   "metadata": {},
   "outputs": [],
   "source": [
    "y = training_data[\"Survived\"].values\n",
    "x = training_data[[\"Pclass\", \"Sex\", \"Age\", \"SibSp\", \"Parch\", \"Fare\", \"Embarked\"]].values\n",
    "x_test = test_data[[\"Pclass\", \"Sex\", \"Age\", \"SibSp\", \"Parch\", \"Fare\", \"Embarked\"]].values"
   ]
  },
  {
   "cell_type": "code",
   "execution_count": 413,
   "metadata": {},
   "outputs": [],
   "source": [
    "from sklearn.preprocessing import LabelEncoder\n",
    "le = LabelEncoder()\n",
    "#change sex and embarked to binary variables\n",
    "x[:, 1] = le.fit_transform(x[:, 1])\n",
    "x_test[:, 1] = le.transform(x_test[:, 1])\n",
    "x[:, -1] = le.fit_transform(x[:, -1])\n",
    "x_test[:, -1] = le.transform(x_test[:, -1])"
   ]
  },
  {
   "cell_type": "code",
   "execution_count": 414,
   "metadata": {},
   "outputs": [],
   "source": [
    "from sklearn.model_selection import train_test_split\n",
    "x_train, x_valid, y_train, y_valid = train_test_split(x, y, test_size = 0.2, random_state = 1)"
   ]
  },
  {
   "cell_type": "markdown",
   "metadata": {},
   "source": [
    "## Training data on logistic regression model"
   ]
  },
  {
   "cell_type": "code",
   "execution_count": 415,
   "metadata": {},
   "outputs": [
    {
     "data": {
      "text/plain": [
       "LogisticRegression()"
      ]
     },
     "execution_count": 415,
     "metadata": {},
     "output_type": "execute_result"
    }
   ],
   "source": [
    "from sklearn.linear_model import LogisticRegression\n",
    "logistic_model = LogisticRegression()\n",
    "logistic_model.fit(x_train, y_train)"
   ]
  },
  {
   "cell_type": "code",
   "execution_count": 416,
   "metadata": {},
   "outputs": [
    {
     "name": "stdout",
     "output_type": "stream",
     "text": [
      "[[90 16]\n",
      " [20 53]]\n"
     ]
    },
    {
     "data": {
      "text/plain": [
       "0.7988826815642458"
      ]
     },
     "execution_count": 416,
     "metadata": {},
     "output_type": "execute_result"
    }
   ],
   "source": [
    "from sklearn.metrics import confusion_matrix, accuracy_score, r2_score\n",
    "y_pred = logistic_model.predict(x_valid)\n",
    "cm = confusion_matrix(y_valid, y_pred)\n",
    "print(cm)\n",
    "accuracy_score(y_valid, y_pred)"
   ]
  },
  {
   "cell_type": "code",
   "execution_count": 417,
   "metadata": {},
   "outputs": [],
   "source": [
    "y_test = logistic_model.predict(x_test)\n",
    "submission = pd.DataFrame({'PassengerId': test_data['PassengerId'].values, 'Survived': y_test})\n",
    "submission.to_csv(\"Titanic_Machine_learning.csv\", index = False)"
   ]
  }
 ],
 "metadata": {
  "interpreter": {
   "hash": "81e2118ac232342d5f66618a1d55e4a76e0c5905918eabba85e34576aac9ee08"
  },
  "kernelspec": {
   "display_name": "Python 3.8.6 64-bit",
   "name": "python3"
  },
  "language_info": {
   "codemirror_mode": {
    "name": "ipython",
    "version": 3
   },
   "file_extension": ".py",
   "mimetype": "text/x-python",
   "name": "python",
   "nbconvert_exporter": "python",
   "pygments_lexer": "ipython3",
   "version": "3.8.6"
  },
  "orig_nbformat": 4
 },
 "nbformat": 4,
 "nbformat_minor": 2
}
